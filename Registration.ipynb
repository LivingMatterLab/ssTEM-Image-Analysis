{
 "cells": [
  {
   "cell_type": "code",
   "execution_count": 2,
   "metadata": {},
   "outputs": [],
   "source": [
    "from functools import partial\n",
    "import sys\n",
    "import pycpd\n",
    "from matplotlib import pyplot as plt\n",
    "from pycpd import AffineRegistration\n",
    "import numpy as np\n",
    "import time\n",
    "from mpl_toolkits.mplot3d import Axes3D\n",
    "import pandas as pd\n",
    "import openpyxl\n",
    "import math"
   ]
  },
  {
   "cell_type": "markdown",
   "metadata": {},
   "source": [
    "### Main Code\n",
    "The following code goes through the image stack, working with pairs of two images at a time. Microtubule coordinates from the two images undergo an affine registration and resulting point pairs that are within a threshold distance of each other are determined to be connected (assigned to the same microtubule)."
   ]
  },
  {
   "cell_type": "code",
   "execution_count": null,
   "metadata": {},
   "outputs": [],
   "source": [
    "fileName = \"ManualAlignedResults.xlsx\" #Excel file holding final microtubule locations\n",
    "\n",
    "#sort sheets numerically before reading in data\n",
    "file = pd.ExcelFile(fileName,engine='openpyxl')\n",
    "sheets = sorted(file.sheet_names)\n",
    "\n",
    "vertices = [] # coordinates of each vertex (in nm)\n",
    "connectivity = [] # pairs of vertex numbers that are connected\n",
    "y = 0. # nm starting axial coordinate\n",
    "dy = 50. # nm slice thickness\n",
    "scale = 200./125.75 # nm/pixels\n",
    "threshold = 11*scale # distance used to determine if nodes in adjacent slices belong to the same MT\n",
    "\n",
    "\n",
    "#read in data from Excel file\n",
    "for i, sheet in enumerate(sheets[0:-1]):\n",
    "    \n",
    "    #read in coordinates from first image for registration\n",
    "    if i==0: #for first image in series, read in from spreadsheet\n",
    "        Xstart = len(vertices) #to keep track of indices in the vertices list\n",
    "        df = pd.read_excel(fileName, sheet_name=sheet, engine='openpyxl')\n",
    "        X = df.to_numpy() \n",
    "        X = X*scale\n",
    "        X = np.append(X,np.ones((len(X),1))*y,axis=1)\n",
    "\n",
    "        for point in X:\n",
    "            vertices.append(point)\n",
    "\n",
    "        Xindices = range(Xstart, len(vertices))\n",
    "    else: \n",
    "        X = Y\n",
    "        Xindices = Yindices\n",
    "    \n",
    "    #read in coordinates from second image for registration\n",
    "    Ystart = len(vertices) #to keep track of indices in the vertices list\n",
    "\n",
    "    y = y+dy\n",
    "    df = pd.read_excel(fileName, sheet_name=sheets[i+1], engine='openpyxl')\n",
    "    Y = df.to_numpy()\n",
    "    Y = Y*scale\n",
    "    Y = np.append(Y,np.ones((len(Y),1))*y,axis=1)\n",
    "    \n",
    "    for point in Y:\n",
    "        vertices.append(point)\n",
    "    \n",
    "    Yindices = range(Ystart, len(vertices))\n",
    "    \n",
    "    #register the points from the two images\n",
    "    reg = AffineRegistration(tolerance = 0.0001, **{'X': X[:,0:2], 'Y': Y[:,0:2]})\n",
    "    reg.register()\n",
    "\n",
    "    #check the proximity of point pairs to determine connectivity\n",
    "    for index, point in enumerate(X):\n",
    "        distances = np.linalg.norm(point[0:2]-reg.TY, axis=1)\n",
    "        if np.min(distances) < threshold:\n",
    "            connectivity.append((Xindices[index],Yindices[np.argmin(distances)]))\n",
    "\n",
    "#save coordinate and connectivity data\n",
    "with open(\"vertexCoords.txt\", \"w\") as f:\n",
    "    for v in vertices:\n",
    "        f.write(str(v) +\"\\n\")\n",
    "        \n",
    "with open(\"connectivityTable.txt\", \"w\") as f:\n",
    "    for c in connectivity:\n",
    "        f.write(str(c) +\"\\n\")"
   ]
  }
 ],
 "metadata": {
  "kernelspec": {
   "display_name": "Python 3",
   "language": "python",
   "name": "python3"
  },
  "language_info": {
   "codemirror_mode": {
    "name": "ipython",
    "version": 3
   },
   "file_extension": ".py",
   "mimetype": "text/x-python",
   "name": "python",
   "nbconvert_exporter": "python",
   "pygments_lexer": "ipython3",
   "version": "3.7.0"
  }
 },
 "nbformat": 4,
 "nbformat_minor": 4
}
